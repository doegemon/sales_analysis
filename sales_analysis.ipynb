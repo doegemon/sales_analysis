{
 "cells": [
  {
   "cell_type": "markdown",
   "id": "ddd2f784",
   "metadata": {},
   "source": [
    "# Análise Exploratória de Dados com SQL"
   ]
  },
  {
   "cell_type": "markdown",
   "id": "85082858",
   "metadata": {},
   "source": [
    "Análise Exploratória de Dados provenientes de uma empresa de varejo no segmento de vestuário com foco no e-commerce."
   ]
  },
  {
   "cell_type": "code",
   "execution_count": 11,
   "id": "f395a8d3",
   "metadata": {
    "ExecuteTime": {
     "end_time": "2022-06-14T22:12:24.683213Z",
     "start_time": "2022-06-14T22:12:17.698201Z"
    }
   },
   "outputs": [
    {
     "name": "stdout",
     "output_type": "stream",
     "text": [
      "Collecting ipython-sql\n",
      "  Downloading ipython_sql-0.4.1-py3-none-any.whl (21 kB)\n",
      "Collecting prettytable<1\n",
      "  Downloading prettytable-0.7.2.zip (28 kB)\n",
      "Requirement already satisfied: six in c:\\users\\nicolas\\anaconda3\\lib\\site-packages (from ipython-sql) (1.16.0)\n",
      "Collecting sqlparse\n",
      "  Downloading sqlparse-0.4.2-py3-none-any.whl (42 kB)\n",
      "Requirement already satisfied: ipython>=1.0 in c:\\users\\nicolas\\anaconda3\\lib\\site-packages (from ipython-sql) (7.29.0)\n",
      "Requirement already satisfied: ipython-genutils>=0.1.0 in c:\\users\\nicolas\\anaconda3\\lib\\site-packages (from ipython-sql) (0.2.0)\n",
      "Requirement already satisfied: sqlalchemy>=0.6.7 in c:\\users\\nicolas\\anaconda3\\lib\\site-packages (from ipython-sql) (1.4.22)\n",
      "Requirement already satisfied: colorama in c:\\users\\nicolas\\anaconda3\\lib\\site-packages (from ipython>=1.0->ipython-sql) (0.4.4)\n",
      "Requirement already satisfied: setuptools>=18.5 in c:\\users\\nicolas\\anaconda3\\lib\\site-packages (from ipython>=1.0->ipython-sql) (58.0.4)\n",
      "Requirement already satisfied: jedi>=0.16 in c:\\users\\nicolas\\anaconda3\\lib\\site-packages (from ipython>=1.0->ipython-sql) (0.18.0)\n",
      "Requirement already satisfied: prompt-toolkit!=3.0.0,!=3.0.1,<3.1.0,>=2.0.0 in c:\\users\\nicolas\\anaconda3\\lib\\site-packages (from ipython>=1.0->ipython-sql) (3.0.20)\n",
      "Requirement already satisfied: decorator in c:\\users\\nicolas\\anaconda3\\lib\\site-packages (from ipython>=1.0->ipython-sql) (5.1.0)\n",
      "Requirement already satisfied: pygments in c:\\users\\nicolas\\anaconda3\\lib\\site-packages (from ipython>=1.0->ipython-sql) (2.10.0)\n",
      "Requirement already satisfied: backcall in c:\\users\\nicolas\\anaconda3\\lib\\site-packages (from ipython>=1.0->ipython-sql) (0.2.0)\n",
      "Requirement already satisfied: traitlets>=4.2 in c:\\users\\nicolas\\anaconda3\\lib\\site-packages (from ipython>=1.0->ipython-sql) (5.1.0)\n",
      "Requirement already satisfied: matplotlib-inline in c:\\users\\nicolas\\anaconda3\\lib\\site-packages (from ipython>=1.0->ipython-sql) (0.1.2)\n",
      "Requirement already satisfied: pickleshare in c:\\users\\nicolas\\anaconda3\\lib\\site-packages (from ipython>=1.0->ipython-sql) (0.7.5)\n",
      "Requirement already satisfied: parso<0.9.0,>=0.8.0 in c:\\users\\nicolas\\anaconda3\\lib\\site-packages (from jedi>=0.16->ipython>=1.0->ipython-sql) (0.8.2)\n",
      "Requirement already satisfied: wcwidth in c:\\users\\nicolas\\anaconda3\\lib\\site-packages (from prompt-toolkit!=3.0.0,!=3.0.1,<3.1.0,>=2.0.0->ipython>=1.0->ipython-sql) (0.2.5)\n",
      "Requirement already satisfied: greenlet!=0.4.17 in c:\\users\\nicolas\\anaconda3\\lib\\site-packages (from sqlalchemy>=0.6.7->ipython-sql) (1.1.1)\n",
      "Building wheels for collected packages: prettytable\n",
      "  Building wheel for prettytable (setup.py): started\n",
      "  Building wheel for prettytable (setup.py): finished with status 'done'\n",
      "  Created wheel for prettytable: filename=prettytable-0.7.2-py3-none-any.whl size=13714 sha256=9b22c436240cc99a461205f815b491aa4e93f4f2ca1171627bee7556be0e2169\n",
      "  Stored in directory: c:\\users\\nicolas\\appdata\\local\\pip\\cache\\wheels\\75\\f7\\28\\77a076f1fa8cbeda61aca712815d04d7a32435f04a26a2dd7b\n",
      "Successfully built prettytable\n",
      "Installing collected packages: sqlparse, prettytable, ipython-sql\n",
      "Successfully installed ipython-sql-0.4.1 prettytable-0.7.2 sqlparse-0.4.2\n"
     ]
    }
   ],
   "source": [
    "# Instalando o pacote que possibilita utilizar SQL no Jupyter Notebook\n",
    "!pip install ipython-sql"
   ]
  },
  {
   "cell_type": "code",
   "execution_count": 34,
   "id": "3c629775",
   "metadata": {
    "ExecuteTime": {
     "end_time": "2022-06-25T17:46:26.599305Z",
     "start_time": "2022-06-25T17:46:26.596295Z"
    }
   },
   "outputs": [
    {
     "name": "stdout",
     "output_type": "stream",
     "text": [
      "The sql extension is already loaded. To reload it, use:\n",
      "  %reload_ext sql\n"
     ]
    }
   ],
   "source": [
    "# Carregando a extensão do SQL\n",
    "%load_ext sql"
   ]
  },
  {
   "cell_type": "code",
   "execution_count": 35,
   "id": "bd6de0fc",
   "metadata": {
    "ExecuteTime": {
     "end_time": "2022-06-25T17:46:28.913863Z",
     "start_time": "2022-06-25T17:46:28.909863Z"
    }
   },
   "outputs": [],
   "source": [
    "# Conectando ao dataset já formatado\n",
    "%sql sqlite:///sales.db"
   ]
  },
  {
   "cell_type": "markdown",
   "id": "d124c1b9",
   "metadata": {},
   "source": [
    "## Análise do Dataset"
   ]
  },
  {
   "cell_type": "code",
   "execution_count": 3,
   "id": "508cb662",
   "metadata": {
    "ExecuteTime": {
     "end_time": "2022-06-25T16:55:44.596523Z",
     "start_time": "2022-06-25T16:55:44.584528Z"
    }
   },
   "outputs": [
    {
     "name": "stdout",
     "output_type": "stream",
     "text": [
      " * sqlite:///sales.db\n",
      "Done.\n"
     ]
    },
    {
     "data": {
      "text/html": [
       "<table>\n",
       "    <tr>\n",
       "        <th>name</th>\n",
       "    </tr>\n",
       "    <tr>\n",
       "        <td>customers</td>\n",
       "    </tr>\n",
       "    <tr>\n",
       "        <td>orders</td>\n",
       "    </tr>\n",
       "    <tr>\n",
       "        <td>products</td>\n",
       "    </tr>\n",
       "    <tr>\n",
       "        <td>sales</td>\n",
       "    </tr>\n",
       "</table>"
      ],
      "text/plain": [
       "[('customers',), ('orders',), ('products',), ('sales',)]"
      ]
     },
     "execution_count": 3,
     "metadata": {},
     "output_type": "execute_result"
    }
   ],
   "source": [
    "# Identificando as tabelas do banco de dados\n",
    "%%sql\n",
    "SELECT name FROM sqlite_master WHERE type='table';"
   ]
  },
  {
   "cell_type": "code",
   "execution_count": 4,
   "id": "88b8215f",
   "metadata": {
    "ExecuteTime": {
     "end_time": "2022-06-25T16:56:19.493826Z",
     "start_time": "2022-06-25T16:56:19.487824Z"
    }
   },
   "outputs": [
    {
     "name": "stdout",
     "output_type": "stream",
     "text": [
      " * sqlite:///sales.db\n",
      "Done.\n"
     ]
    },
    {
     "data": {
      "text/html": [
       "<table>\n",
       "    <tr>\n",
       "        <th>cid</th>\n",
       "        <th>name</th>\n",
       "        <th>type</th>\n",
       "        <th>notnull</th>\n",
       "        <th>dflt_value</th>\n",
       "        <th>pk</th>\n",
       "    </tr>\n",
       "    <tr>\n",
       "        <td>0</td>\n",
       "        <td>customer_id</td>\n",
       "        <td>INTEGER</td>\n",
       "        <td>0</td>\n",
       "        <td>None</td>\n",
       "        <td>1</td>\n",
       "    </tr>\n",
       "    <tr>\n",
       "        <td>1</td>\n",
       "        <td>customer_name</td>\n",
       "        <td>TEXT</td>\n",
       "        <td>0</td>\n",
       "        <td>None</td>\n",
       "        <td>0</td>\n",
       "    </tr>\n",
       "    <tr>\n",
       "        <td>2</td>\n",
       "        <td>gender</td>\n",
       "        <td>TEXT</td>\n",
       "        <td>0</td>\n",
       "        <td>None</td>\n",
       "        <td>0</td>\n",
       "    </tr>\n",
       "    <tr>\n",
       "        <td>3</td>\n",
       "        <td>age</td>\n",
       "        <td>INTEGER</td>\n",
       "        <td>0</td>\n",
       "        <td>None</td>\n",
       "        <td>0</td>\n",
       "    </tr>\n",
       "    <tr>\n",
       "        <td>4</td>\n",
       "        <td>home_address</td>\n",
       "        <td>TEXT</td>\n",
       "        <td>0</td>\n",
       "        <td>None</td>\n",
       "        <td>0</td>\n",
       "    </tr>\n",
       "    <tr>\n",
       "        <td>5</td>\n",
       "        <td>zip_code</td>\n",
       "        <td>INTEGER</td>\n",
       "        <td>0</td>\n",
       "        <td>None</td>\n",
       "        <td>0</td>\n",
       "    </tr>\n",
       "    <tr>\n",
       "        <td>6</td>\n",
       "        <td>city</td>\n",
       "        <td>TEXT</td>\n",
       "        <td>0</td>\n",
       "        <td>None</td>\n",
       "        <td>0</td>\n",
       "    </tr>\n",
       "    <tr>\n",
       "        <td>7</td>\n",
       "        <td>state</td>\n",
       "        <td>TEXT</td>\n",
       "        <td>0</td>\n",
       "        <td>None</td>\n",
       "        <td>0</td>\n",
       "    </tr>\n",
       "    <tr>\n",
       "        <td>8</td>\n",
       "        <td>country</td>\n",
       "        <td>TEXT</td>\n",
       "        <td>0</td>\n",
       "        <td>None</td>\n",
       "        <td>0</td>\n",
       "    </tr>\n",
       "    <tr>\n",
       "        <td>9</td>\n",
       "        <td>age_bracket</td>\n",
       "        <td>TEXT AFTER age</td>\n",
       "        <td>0</td>\n",
       "        <td>None</td>\n",
       "        <td>0</td>\n",
       "    </tr>\n",
       "</table>"
      ],
      "text/plain": [
       "[(0, 'customer_id', 'INTEGER', 0, None, 1),\n",
       " (1, 'customer_name', 'TEXT', 0, None, 0),\n",
       " (2, 'gender', 'TEXT', 0, None, 0),\n",
       " (3, 'age', 'INTEGER', 0, None, 0),\n",
       " (4, 'home_address', 'TEXT', 0, None, 0),\n",
       " (5, 'zip_code', 'INTEGER', 0, None, 0),\n",
       " (6, 'city', 'TEXT', 0, None, 0),\n",
       " (7, 'state', 'TEXT', 0, None, 0),\n",
       " (8, 'country', 'TEXT', 0, None, 0),\n",
       " (9, 'age_bracket', 'TEXT AFTER age', 0, None, 0)]"
      ]
     },
     "execution_count": 4,
     "metadata": {},
     "output_type": "execute_result"
    }
   ],
   "source": [
    "# Analisando os atributos/colunas e tipos dos registros de cada tabela\n",
    "%%sql\n",
    "PRAGMA TABLE_INFO ('customers')"
   ]
  },
  {
   "cell_type": "code",
   "execution_count": 5,
   "id": "055a0e88",
   "metadata": {
    "ExecuteTime": {
     "end_time": "2022-06-25T16:56:57.469302Z",
     "start_time": "2022-06-25T16:56:57.464301Z"
    }
   },
   "outputs": [
    {
     "name": "stdout",
     "output_type": "stream",
     "text": [
      " * sqlite:///sales.db\n",
      "Done.\n"
     ]
    },
    {
     "data": {
      "text/html": [
       "<table>\n",
       "    <tr>\n",
       "        <th>cid</th>\n",
       "        <th>name</th>\n",
       "        <th>type</th>\n",
       "        <th>notnull</th>\n",
       "        <th>dflt_value</th>\n",
       "        <th>pk</th>\n",
       "    </tr>\n",
       "    <tr>\n",
       "        <td>0</td>\n",
       "        <td>order_id</td>\n",
       "        <td>INTEGER</td>\n",
       "        <td>0</td>\n",
       "        <td>None</td>\n",
       "        <td>1</td>\n",
       "    </tr>\n",
       "    <tr>\n",
       "        <td>1</td>\n",
       "        <td>customer_id</td>\n",
       "        <td>INTEGER</td>\n",
       "        <td>0</td>\n",
       "        <td>None</td>\n",
       "        <td>0</td>\n",
       "    </tr>\n",
       "    <tr>\n",
       "        <td>2</td>\n",
       "        <td>payment</td>\n",
       "        <td>INTEGER</td>\n",
       "        <td>0</td>\n",
       "        <td>None</td>\n",
       "        <td>0</td>\n",
       "    </tr>\n",
       "    <tr>\n",
       "        <td>3</td>\n",
       "        <td>delivery_date</td>\n",
       "        <td>date</td>\n",
       "        <td>0</td>\n",
       "        <td>None</td>\n",
       "        <td>0</td>\n",
       "    </tr>\n",
       "    <tr>\n",
       "        <td>4</td>\n",
       "        <td>order_date</td>\n",
       "        <td>date</td>\n",
       "        <td>0</td>\n",
       "        <td>None</td>\n",
       "        <td>0</td>\n",
       "    </tr>\n",
       "    <tr>\n",
       "        <td>5</td>\n",
       "        <td>order_date_month</td>\n",
       "        <td>date</td>\n",
       "        <td>0</td>\n",
       "        <td>None</td>\n",
       "        <td>0</td>\n",
       "    </tr>\n",
       "</table>"
      ],
      "text/plain": [
       "[(0, 'order_id', 'INTEGER', 0, None, 1),\n",
       " (1, 'customer_id', 'INTEGER', 0, None, 0),\n",
       " (2, 'payment', 'INTEGER', 0, None, 0),\n",
       " (3, 'delivery_date', 'date', 0, None, 0),\n",
       " (4, 'order_date', 'date', 0, None, 0),\n",
       " (5, 'order_date_month', 'date', 0, None, 0)]"
      ]
     },
     "execution_count": 5,
     "metadata": {},
     "output_type": "execute_result"
    }
   ],
   "source": [
    "%%sql\n",
    "PRAGMA TABLE_INFO ('orders')"
   ]
  },
  {
   "cell_type": "code",
   "execution_count": 6,
   "id": "d058c4cf",
   "metadata": {
    "ExecuteTime": {
     "end_time": "2022-06-25T16:56:58.114413Z",
     "start_time": "2022-06-25T16:56:58.110403Z"
    }
   },
   "outputs": [
    {
     "name": "stdout",
     "output_type": "stream",
     "text": [
      " * sqlite:///sales.db\n",
      "Done.\n"
     ]
    },
    {
     "data": {
      "text/html": [
       "<table>\n",
       "    <tr>\n",
       "        <th>cid</th>\n",
       "        <th>name</th>\n",
       "        <th>type</th>\n",
       "        <th>notnull</th>\n",
       "        <th>dflt_value</th>\n",
       "        <th>pk</th>\n",
       "    </tr>\n",
       "    <tr>\n",
       "        <td>0</td>\n",
       "        <td>product_id</td>\n",
       "        <td>INTEGER</td>\n",
       "        <td>0</td>\n",
       "        <td>None</td>\n",
       "        <td>1</td>\n",
       "    </tr>\n",
       "    <tr>\n",
       "        <td>1</td>\n",
       "        <td>product_type</td>\n",
       "        <td>TEXT</td>\n",
       "        <td>0</td>\n",
       "        <td>None</td>\n",
       "        <td>0</td>\n",
       "    </tr>\n",
       "    <tr>\n",
       "        <td>2</td>\n",
       "        <td>product_name</td>\n",
       "        <td>TEXT</td>\n",
       "        <td>0</td>\n",
       "        <td>None</td>\n",
       "        <td>0</td>\n",
       "    </tr>\n",
       "    <tr>\n",
       "        <td>3</td>\n",
       "        <td>size</td>\n",
       "        <td>TEXT</td>\n",
       "        <td>0</td>\n",
       "        <td>None</td>\n",
       "        <td>0</td>\n",
       "    </tr>\n",
       "    <tr>\n",
       "        <td>4</td>\n",
       "        <td>colour</td>\n",
       "        <td>TEXT</td>\n",
       "        <td>0</td>\n",
       "        <td>None</td>\n",
       "        <td>0</td>\n",
       "    </tr>\n",
       "    <tr>\n",
       "        <td>5</td>\n",
       "        <td>price</td>\n",
       "        <td>INTEGER</td>\n",
       "        <td>0</td>\n",
       "        <td>None</td>\n",
       "        <td>0</td>\n",
       "    </tr>\n",
       "    <tr>\n",
       "        <td>6</td>\n",
       "        <td>quantity</td>\n",
       "        <td>INTEGER</td>\n",
       "        <td>0</td>\n",
       "        <td>None</td>\n",
       "        <td>0</td>\n",
       "    </tr>\n",
       "    <tr>\n",
       "        <td>7</td>\n",
       "        <td>description</td>\n",
       "        <td>TEXT</td>\n",
       "        <td>0</td>\n",
       "        <td>None</td>\n",
       "        <td>0</td>\n",
       "    </tr>\n",
       "</table>"
      ],
      "text/plain": [
       "[(0, 'product_id', 'INTEGER', 0, None, 1),\n",
       " (1, 'product_type', 'TEXT', 0, None, 0),\n",
       " (2, 'product_name', 'TEXT', 0, None, 0),\n",
       " (3, 'size', 'TEXT', 0, None, 0),\n",
       " (4, 'colour', 'TEXT', 0, None, 0),\n",
       " (5, 'price', 'INTEGER', 0, None, 0),\n",
       " (6, 'quantity', 'INTEGER', 0, None, 0),\n",
       " (7, 'description', 'TEXT', 0, None, 0)]"
      ]
     },
     "execution_count": 6,
     "metadata": {},
     "output_type": "execute_result"
    }
   ],
   "source": [
    "%%sql\n",
    "PRAGMA TABLE_INFO ('products')"
   ]
  },
  {
   "cell_type": "code",
   "execution_count": 7,
   "id": "d2e4dbc0",
   "metadata": {
    "ExecuteTime": {
     "end_time": "2022-06-25T16:57:00.451580Z",
     "start_time": "2022-06-25T16:57:00.446579Z"
    }
   },
   "outputs": [
    {
     "name": "stdout",
     "output_type": "stream",
     "text": [
      " * sqlite:///sales.db\n",
      "Done.\n"
     ]
    },
    {
     "data": {
      "text/html": [
       "<table>\n",
       "    <tr>\n",
       "        <th>cid</th>\n",
       "        <th>name</th>\n",
       "        <th>type</th>\n",
       "        <th>notnull</th>\n",
       "        <th>dflt_value</th>\n",
       "        <th>pk</th>\n",
       "    </tr>\n",
       "    <tr>\n",
       "        <td>0</td>\n",
       "        <td>sales_id</td>\n",
       "        <td>INTEGER</td>\n",
       "        <td>0</td>\n",
       "        <td>None</td>\n",
       "        <td>1</td>\n",
       "    </tr>\n",
       "    <tr>\n",
       "        <td>1</td>\n",
       "        <td>order_id</td>\n",
       "        <td>INTEGER</td>\n",
       "        <td>0</td>\n",
       "        <td>None</td>\n",
       "        <td>0</td>\n",
       "    </tr>\n",
       "    <tr>\n",
       "        <td>2</td>\n",
       "        <td>product_id</td>\n",
       "        <td>INTEGER</td>\n",
       "        <td>0</td>\n",
       "        <td>None</td>\n",
       "        <td>0</td>\n",
       "    </tr>\n",
       "    <tr>\n",
       "        <td>3</td>\n",
       "        <td>price_per_unit</td>\n",
       "        <td>INTEGER</td>\n",
       "        <td>0</td>\n",
       "        <td>None</td>\n",
       "        <td>0</td>\n",
       "    </tr>\n",
       "    <tr>\n",
       "        <td>4</td>\n",
       "        <td>quantity</td>\n",
       "        <td>INTEGER</td>\n",
       "        <td>0</td>\n",
       "        <td>None</td>\n",
       "        <td>0</td>\n",
       "    </tr>\n",
       "    <tr>\n",
       "        <td>5</td>\n",
       "        <td>total_price</td>\n",
       "        <td>INTEGER</td>\n",
       "        <td>0</td>\n",
       "        <td>None</td>\n",
       "        <td>0</td>\n",
       "    </tr>\n",
       "</table>"
      ],
      "text/plain": [
       "[(0, 'sales_id', 'INTEGER', 0, None, 1),\n",
       " (1, 'order_id', 'INTEGER', 0, None, 0),\n",
       " (2, 'product_id', 'INTEGER', 0, None, 0),\n",
       " (3, 'price_per_unit', 'INTEGER', 0, None, 0),\n",
       " (4, 'quantity', 'INTEGER', 0, None, 0),\n",
       " (5, 'total_price', 'INTEGER', 0, None, 0)]"
      ]
     },
     "execution_count": 7,
     "metadata": {},
     "output_type": "execute_result"
    }
   ],
   "source": [
    "%%sql\n",
    "PRAGMA TABLE_INFO ('sales')"
   ]
  },
  {
   "cell_type": "markdown",
   "id": "26d8b5dc",
   "metadata": {},
   "source": [
    "## Análises Iniciais"
   ]
  },
  {
   "cell_type": "markdown",
   "id": "0f3c0860",
   "metadata": {},
   "source": [
    "### Clientes"
   ]
  },
  {
   "cell_type": "code",
   "execution_count": 34,
   "id": "e236d3b1",
   "metadata": {
    "ExecuteTime": {
     "end_time": "2022-06-19T16:53:08.195673Z",
     "start_time": "2022-06-19T16:53:08.190671Z"
    }
   },
   "outputs": [
    {
     "name": "stdout",
     "output_type": "stream",
     "text": [
      " * sqlite:///sales.db\n",
      "Done.\n"
     ]
    },
    {
     "data": {
      "text/html": [
       "<table>\n",
       "    <tr>\n",
       "        <th>Total Customers</th>\n",
       "    </tr>\n",
       "    <tr>\n",
       "        <td>1000</td>\n",
       "    </tr>\n",
       "</table>"
      ],
      "text/plain": [
       "[(1000,)]"
      ]
     },
     "execution_count": 34,
     "metadata": {},
     "output_type": "execute_result"
    }
   ],
   "source": [
    "# Número de clientes cadastrados\n",
    "%%sql\n",
    "SELECT COUNT(customer_id) AS 'Total Customers' \n",
    "FROM customers;"
   ]
  },
  {
   "cell_type": "code",
   "execution_count": 6,
   "id": "baab7d57",
   "metadata": {
    "ExecuteTime": {
     "end_time": "2022-06-19T16:33:50.156632Z",
     "start_time": "2022-06-19T16:33:50.150639Z"
    }
   },
   "outputs": [
    {
     "name": "stdout",
     "output_type": "stream",
     "text": [
      " * sqlite:///sales.db\n",
      "Done.\n"
     ]
    },
    {
     "data": {
      "text/html": [
       "<table>\n",
       "    <tr>\n",
       "        <th>Gender</th>\n",
       "        <th>Customers per Gender</th>\n",
       "    </tr>\n",
       "    <tr>\n",
       "        <td>Male</td>\n",
       "        <td>143</td>\n",
       "    </tr>\n",
       "    <tr>\n",
       "        <td>Non-binary</td>\n",
       "        <td>131</td>\n",
       "    </tr>\n",
       "    <tr>\n",
       "        <td>Polygender</td>\n",
       "        <td>128</td>\n",
       "    </tr>\n",
       "    <tr>\n",
       "        <td>Genderqueer</td>\n",
       "        <td>127</td>\n",
       "    </tr>\n",
       "    <tr>\n",
       "        <td>Genderfluid</td>\n",
       "        <td>122</td>\n",
       "    </tr>\n",
       "    <tr>\n",
       "        <td>Bigender</td>\n",
       "        <td>120</td>\n",
       "    </tr>\n",
       "    <tr>\n",
       "        <td>Female</td>\n",
       "        <td>115</td>\n",
       "    </tr>\n",
       "    <tr>\n",
       "        <td>Agender</td>\n",
       "        <td>114</td>\n",
       "    </tr>\n",
       "</table>"
      ],
      "text/plain": [
       "[('Male', 143),\n",
       " ('Non-binary', 131),\n",
       " ('Polygender', 128),\n",
       " ('Genderqueer', 127),\n",
       " ('Genderfluid', 122),\n",
       " ('Bigender', 120),\n",
       " ('Female', 115),\n",
       " ('Agender', 114)]"
      ]
     },
     "execution_count": 6,
     "metadata": {},
     "output_type": "execute_result"
    }
   ],
   "source": [
    "# Número de clientes por gênero\n",
    "%%sql\n",
    "SELECT gender AS 'Gender',\n",
    "COUNT(customer_id) AS 'Customers per Gender' \n",
    "FROM customers \n",
    "GROUP BY gender\n",
    "ORDER BY COUNT(customer_id) DESC;"
   ]
  },
  {
   "cell_type": "code",
   "execution_count": 7,
   "id": "f8845dd6",
   "metadata": {
    "ExecuteTime": {
     "end_time": "2022-06-19T16:34:10.599633Z",
     "start_time": "2022-06-19T16:34:10.594639Z"
    }
   },
   "outputs": [
    {
     "name": "stdout",
     "output_type": "stream",
     "text": [
      " * sqlite:///sales.db\n",
      "Done.\n"
     ]
    },
    {
     "data": {
      "text/html": [
       "<table>\n",
       "    <tr>\n",
       "        <th>Average Age</th>\n",
       "    </tr>\n",
       "    <tr>\n",
       "        <td>50.0</td>\n",
       "    </tr>\n",
       "</table>"
      ],
      "text/plain": [
       "[(50.0,)]"
      ]
     },
     "execution_count": 7,
     "metadata": {},
     "output_type": "execute_result"
    }
   ],
   "source": [
    "# Idade média dos clientes\n",
    "%%sql\n",
    "SELECT ROUND(AVG(age)) AS 'Average Age' \n",
    "FROM customers;"
   ]
  },
  {
   "cell_type": "code",
   "execution_count": 8,
   "id": "bbdbca4f",
   "metadata": {
    "ExecuteTime": {
     "end_time": "2022-06-19T16:34:32.174266Z",
     "start_time": "2022-06-19T16:34:32.169265Z"
    }
   },
   "outputs": [
    {
     "name": "stdout",
     "output_type": "stream",
     "text": [
      " * sqlite:///sales.db\n",
      "Done.\n"
     ]
    },
    {
     "data": {
      "text/html": [
       "<table>\n",
       "    <tr>\n",
       "        <th>Country</th>\n",
       "        <th>Customers per Country</th>\n",
       "    </tr>\n",
       "    <tr>\n",
       "        <td>Australia</td>\n",
       "        <td>1000</td>\n",
       "    </tr>\n",
       "</table>"
      ],
      "text/plain": [
       "[('Australia', 1000)]"
      ]
     },
     "execution_count": 8,
     "metadata": {},
     "output_type": "execute_result"
    }
   ],
   "source": [
    "# País onde residem os clientes\n",
    "%%sql\n",
    "SELECT country AS 'Country', \n",
    "COUNT(customer_id) AS 'Customers per Country' \n",
    "FROM customers \n",
    "GROUP BY country;"
   ]
  },
  {
   "cell_type": "code",
   "execution_count": 10,
   "id": "27426814",
   "metadata": {
    "ExecuteTime": {
     "end_time": "2022-06-19T16:35:12.073419Z",
     "start_time": "2022-06-19T16:35:12.067418Z"
    }
   },
   "outputs": [
    {
     "name": "stdout",
     "output_type": "stream",
     "text": [
      " * sqlite:///sales.db\n",
      "Done.\n"
     ]
    },
    {
     "data": {
      "text/html": [
       "<table>\n",
       "    <tr>\n",
       "        <th>State</th>\n",
       "        <th>Customers per State</th>\n",
       "    </tr>\n",
       "    <tr>\n",
       "        <td>South Australia</td>\n",
       "        <td>139</td>\n",
       "    </tr>\n",
       "    <tr>\n",
       "        <td>Queensland</td>\n",
       "        <td>134</td>\n",
       "    </tr>\n",
       "    <tr>\n",
       "        <td>New South Wales</td>\n",
       "        <td>132</td>\n",
       "    </tr>\n",
       "    <tr>\n",
       "        <td>Northern Territory</td>\n",
       "        <td>125</td>\n",
       "    </tr>\n",
       "    <tr>\n",
       "        <td>Western Australia</td>\n",
       "        <td>124</td>\n",
       "    </tr>\n",
       "    <tr>\n",
       "        <td>Victoria</td>\n",
       "        <td>121</td>\n",
       "    </tr>\n",
       "    <tr>\n",
       "        <td>Australian Capital Territory</td>\n",
       "        <td>121</td>\n",
       "    </tr>\n",
       "    <tr>\n",
       "        <td>Tasmania</td>\n",
       "        <td>104</td>\n",
       "    </tr>\n",
       "</table>"
      ],
      "text/plain": [
       "[('South Australia', 139),\n",
       " ('Queensland', 134),\n",
       " ('New South Wales', 132),\n",
       " ('Northern Territory', 125),\n",
       " ('Western Australia', 124),\n",
       " ('Victoria', 121),\n",
       " ('Australian Capital Territory', 121),\n",
       " ('Tasmania', 104)]"
      ]
     },
     "execution_count": 10,
     "metadata": {},
     "output_type": "execute_result"
    }
   ],
   "source": [
    "# Estados onde residem os clientes\n",
    "%%sql\n",
    "SELECT state AS 'State', \n",
    "COUNT(customer_id) AS 'Customers per State' \n",
    "FROM customers \n",
    "GROUP BY state\n",
    "ORDER BY COUNT(customer_id) DESC;"
   ]
  },
  {
   "cell_type": "code",
   "execution_count": 15,
   "id": "8eb43b2b",
   "metadata": {
    "ExecuteTime": {
     "end_time": "2022-06-19T16:37:45.685452Z",
     "start_time": "2022-06-19T16:37:45.680451Z"
    }
   },
   "outputs": [
    {
     "name": "stdout",
     "output_type": "stream",
     "text": [
      " * sqlite:///sales.db\n",
      "Done.\n"
     ]
    },
    {
     "data": {
      "text/html": [
       "<table>\n",
       "    <tr>\n",
       "        <th>Numbers of Cities</th>\n",
       "    </tr>\n",
       "    <tr>\n",
       "        <td>961</td>\n",
       "    </tr>\n",
       "</table>"
      ],
      "text/plain": [
       "[(961,)]"
      ]
     },
     "execution_count": 15,
     "metadata": {},
     "output_type": "execute_result"
    }
   ],
   "source": [
    "# Número de cidades distintas onde residem os clientes\n",
    "%%sql\n",
    "SELECT COUNT(DISTINCT(city)) AS 'Numbers of Cities' \n",
    "FROM customers;"
   ]
  },
  {
   "cell_type": "code",
   "execution_count": 37,
   "id": "1405a0aa",
   "metadata": {
    "ExecuteTime": {
     "end_time": "2022-06-25T17:46:41.824808Z",
     "start_time": "2022-06-25T17:46:41.817806Z"
    }
   },
   "outputs": [
    {
     "name": "stdout",
     "output_type": "stream",
     "text": [
      " * sqlite:///sales.db\n",
      "Done.\n"
     ]
    },
    {
     "data": {
      "text/html": [
       "<table>\n",
       "    <tr>\n",
       "        <th>City</th>\n",
       "        <th>Customers per City</th>\n",
       "    </tr>\n",
       "    <tr>\n",
       "        <td>New Ava</td>\n",
       "        <td>3</td>\n",
       "    </tr>\n",
       "    <tr>\n",
       "        <td>East Sophia</td>\n",
       "        <td>3</td>\n",
       "    </tr>\n",
       "    <tr>\n",
       "        <td>East Aidan</td>\n",
       "        <td>3</td>\n",
       "    </tr>\n",
       "    <tr>\n",
       "        <td>Zacharybury</td>\n",
       "        <td>2</td>\n",
       "    </tr>\n",
       "    <tr>\n",
       "        <td>Williammouth</td>\n",
       "        <td>2</td>\n",
       "    </tr>\n",
       "</table>"
      ],
      "text/plain": [
       "[('New Ava', 3),\n",
       " ('East Sophia', 3),\n",
       " ('East Aidan', 3),\n",
       " ('Zacharybury', 2),\n",
       " ('Williammouth', 2)]"
      ]
     },
     "execution_count": 37,
     "metadata": {},
     "output_type": "execute_result"
    }
   ],
   "source": [
    "# As 5 cidades onde residem mais clientes\n",
    "%%sql\n",
    "SELECT city AS 'City', \n",
    "COUNT(customer_id) AS 'Customers per City' \n",
    "FROM customers \n",
    "GROUP BY city \n",
    "ORDER BY COUNT(customer_id) DESC LIMIT 5;"
   ]
  },
  {
   "cell_type": "markdown",
   "id": "0e0b365b",
   "metadata": {},
   "source": [
    "### Produtos"
   ]
  },
  {
   "cell_type": "code",
   "execution_count": 16,
   "id": "eeadb79d",
   "metadata": {
    "ExecuteTime": {
     "end_time": "2022-06-19T16:38:18.807283Z",
     "start_time": "2022-06-19T16:38:18.801282Z"
    }
   },
   "outputs": [
    {
     "name": "stdout",
     "output_type": "stream",
     "text": [
      " * sqlite:///sales.db\n",
      "Done.\n"
     ]
    },
    {
     "data": {
      "text/html": [
       "<table>\n",
       "    <tr>\n",
       "        <th>Product Type</th>\n",
       "        <th>Number of Products</th>\n",
       "    </tr>\n",
       "    <tr>\n",
       "        <td>Jacket</td>\n",
       "        <td>420</td>\n",
       "    </tr>\n",
       "    <tr>\n",
       "        <td>Shirt</td>\n",
       "        <td>420</td>\n",
       "    </tr>\n",
       "    <tr>\n",
       "        <td>Trousers</td>\n",
       "        <td>420</td>\n",
       "    </tr>\n",
       "</table>"
      ],
      "text/plain": [
       "[('Jacket', 420), ('Shirt', 420), ('Trousers', 420)]"
      ]
     },
     "execution_count": 16,
     "metadata": {},
     "output_type": "execute_result"
    }
   ],
   "source": [
    "# Número de tipos de produto cadastrados\n",
    "%%sql\n",
    "SELECT product_type AS 'Product Type', \n",
    "COUNT(product_id) AS 'Number of Products' \n",
    "FROM products \n",
    "GROUP BY product_type;"
   ]
  },
  {
   "cell_type": "code",
   "execution_count": 17,
   "id": "487775a9",
   "metadata": {
    "ExecuteTime": {
     "end_time": "2022-06-19T16:38:40.901257Z",
     "start_time": "2022-06-19T16:38:40.895256Z"
    }
   },
   "outputs": [
    {
     "name": "stdout",
     "output_type": "stream",
     "text": [
      " * sqlite:///sales.db\n",
      "Done.\n"
     ]
    },
    {
     "data": {
      "text/html": [
       "<table>\n",
       "    <tr>\n",
       "        <th>Product Name</th>\n",
       "        <th>Number of Products</th>\n",
       "    </tr>\n",
       "    <tr>\n",
       "        <td>Bomber</td>\n",
       "        <td>35</td>\n",
       "    </tr>\n",
       "    <tr>\n",
       "        <td>Camp Collared</td>\n",
       "        <td>35</td>\n",
       "    </tr>\n",
       "    <tr>\n",
       "        <td>Cardigan</td>\n",
       "        <td>35</td>\n",
       "    </tr>\n",
       "    <tr>\n",
       "        <td>Cargo Pants</td>\n",
       "        <td>35</td>\n",
       "    </tr>\n",
       "    <tr>\n",
       "        <td>Casual Slim Fit</td>\n",
       "        <td>35</td>\n",
       "    </tr>\n",
       "    <tr>\n",
       "        <td>Chambray</td>\n",
       "        <td>35</td>\n",
       "    </tr>\n",
       "    <tr>\n",
       "        <td>Chinos</td>\n",
       "        <td>35</td>\n",
       "    </tr>\n",
       "    <tr>\n",
       "        <td>Coach</td>\n",
       "        <td>35</td>\n",
       "    </tr>\n",
       "    <tr>\n",
       "        <td>Cords</td>\n",
       "        <td>35</td>\n",
       "    </tr>\n",
       "    <tr>\n",
       "        <td>Cropped</td>\n",
       "        <td>35</td>\n",
       "    </tr>\n",
       "    <tr>\n",
       "        <td>Cuban Collar</td>\n",
       "        <td>35</td>\n",
       "    </tr>\n",
       "    <tr>\n",
       "        <td>Denim</td>\n",
       "        <td>70</td>\n",
       "    </tr>\n",
       "    <tr>\n",
       "        <td>Drawstring</td>\n",
       "        <td>35</td>\n",
       "    </tr>\n",
       "    <tr>\n",
       "        <td>Dress</td>\n",
       "        <td>35</td>\n",
       "    </tr>\n",
       "    <tr>\n",
       "        <td>Flannel</td>\n",
       "        <td>35</td>\n",
       "    </tr>\n",
       "    <tr>\n",
       "        <td>Henley</td>\n",
       "        <td>35</td>\n",
       "    </tr>\n",
       "    <tr>\n",
       "        <td>High-Waisted</td>\n",
       "        <td>35</td>\n",
       "    </tr>\n",
       "    <tr>\n",
       "        <td>Joggers</td>\n",
       "        <td>35</td>\n",
       "    </tr>\n",
       "    <tr>\n",
       "        <td>Leather</td>\n",
       "        <td>35</td>\n",
       "    </tr>\n",
       "    <tr>\n",
       "        <td>Linen</td>\n",
       "        <td>35</td>\n",
       "    </tr>\n",
       "    <tr>\n",
       "        <td>Mandarin Collar</td>\n",
       "        <td>35</td>\n",
       "    </tr>\n",
       "    <tr>\n",
       "        <td>Oxford Cloth</td>\n",
       "        <td>35</td>\n",
       "    </tr>\n",
       "    <tr>\n",
       "        <td>Parka</td>\n",
       "        <td>35</td>\n",
       "    </tr>\n",
       "    <tr>\n",
       "        <td>Peacoat</td>\n",
       "        <td>35</td>\n",
       "    </tr>\n",
       "    <tr>\n",
       "        <td>Pleated</td>\n",
       "        <td>35</td>\n",
       "    </tr>\n",
       "    <tr>\n",
       "        <td>Polo</td>\n",
       "        <td>35</td>\n",
       "    </tr>\n",
       "    <tr>\n",
       "        <td>Puffer</td>\n",
       "        <td>35</td>\n",
       "    </tr>\n",
       "    <tr>\n",
       "        <td>Pullover</td>\n",
       "        <td>35</td>\n",
       "    </tr>\n",
       "    <tr>\n",
       "        <td>Relaxed Leg</td>\n",
       "        <td>35</td>\n",
       "    </tr>\n",
       "    <tr>\n",
       "        <td>Shearling</td>\n",
       "        <td>35</td>\n",
       "    </tr>\n",
       "    <tr>\n",
       "        <td>Slim-Fit</td>\n",
       "        <td>35</td>\n",
       "    </tr>\n",
       "    <tr>\n",
       "        <td>Tracksuit Bottoms</td>\n",
       "        <td>35</td>\n",
       "    </tr>\n",
       "    <tr>\n",
       "        <td>Trench Coat</td>\n",
       "        <td>35</td>\n",
       "    </tr>\n",
       "    <tr>\n",
       "        <td>Windbreaker</td>\n",
       "        <td>35</td>\n",
       "    </tr>\n",
       "    <tr>\n",
       "        <td>Wool</td>\n",
       "        <td>35</td>\n",
       "    </tr>\n",
       "</table>"
      ],
      "text/plain": [
       "[('Bomber', 35),\n",
       " ('Camp Collared', 35),\n",
       " ('Cardigan', 35),\n",
       " ('Cargo Pants', 35),\n",
       " ('Casual Slim Fit', 35),\n",
       " ('Chambray', 35),\n",
       " ('Chinos', 35),\n",
       " ('Coach', 35),\n",
       " ('Cords', 35),\n",
       " ('Cropped', 35),\n",
       " ('Cuban Collar', 35),\n",
       " ('Denim', 70),\n",
       " ('Drawstring', 35),\n",
       " ('Dress', 35),\n",
       " ('Flannel', 35),\n",
       " ('Henley', 35),\n",
       " ('High-Waisted', 35),\n",
       " ('Joggers', 35),\n",
       " ('Leather', 35),\n",
       " ('Linen', 35),\n",
       " ('Mandarin Collar', 35),\n",
       " ('Oxford Cloth', 35),\n",
       " ('Parka', 35),\n",
       " ('Peacoat', 35),\n",
       " ('Pleated', 35),\n",
       " ('Polo', 35),\n",
       " ('Puffer', 35),\n",
       " ('Pullover', 35),\n",
       " ('Relaxed Leg', 35),\n",
       " ('Shearling', 35),\n",
       " ('Slim-Fit', 35),\n",
       " ('Tracksuit Bottoms', 35),\n",
       " ('Trench Coat', 35),\n",
       " ('Windbreaker', 35),\n",
       " ('Wool', 35)]"
      ]
     },
     "execution_count": 17,
     "metadata": {},
     "output_type": "execute_result"
    }
   ],
   "source": [
    "# Nomes e número dos produtos cadastrados \n",
    "%%sql\n",
    "SELECT product_name AS 'Product Name', \n",
    "COUNT(product_id) AS 'Number of Products' \n",
    "FROM products \n",
    "GROUP BY product_name;"
   ]
  },
  {
   "cell_type": "code",
   "execution_count": 21,
   "id": "65b84f11",
   "metadata": {
    "ExecuteTime": {
     "end_time": "2022-06-19T16:40:04.826641Z",
     "start_time": "2022-06-19T16:40:04.821647Z"
    }
   },
   "outputs": [
    {
     "name": "stdout",
     "output_type": "stream",
     "text": [
      " * sqlite:///sales.db\n",
      "Done.\n"
     ]
    },
    {
     "data": {
      "text/html": [
       "<table>\n",
       "    <tr>\n",
       "        <th>Product Name</th>\n",
       "        <th>Product Type</th>\n",
       "        <th>Price</th>\n",
       "    </tr>\n",
       "    <tr>\n",
       "        <td>Dress</td>\n",
       "        <td>Shirt</td>\n",
       "        <td>119</td>\n",
       "    </tr>\n",
       "    <tr>\n",
       "        <td>Parka</td>\n",
       "        <td>Jacket</td>\n",
       "        <td>119</td>\n",
       "    </tr>\n",
       "    <tr>\n",
       "        <td>Slim-Fit</td>\n",
       "        <td>Trousers</td>\n",
       "        <td>119</td>\n",
       "    </tr>\n",
       "    <tr>\n",
       "        <td>Cardigan</td>\n",
       "        <td>Jacket</td>\n",
       "        <td>118</td>\n",
       "    </tr>\n",
       "    <tr>\n",
       "        <td>Polo</td>\n",
       "        <td>Shirt</td>\n",
       "        <td>117</td>\n",
       "    </tr>\n",
       "    <tr>\n",
       "        <td>Linen</td>\n",
       "        <td>Shirt</td>\n",
       "        <td>116</td>\n",
       "    </tr>\n",
       "    <tr>\n",
       "        <td>Denim</td>\n",
       "        <td>Shirt</td>\n",
       "        <td>115</td>\n",
       "    </tr>\n",
       "    <tr>\n",
       "        <td>Coach</td>\n",
       "        <td>Jacket</td>\n",
       "        <td>115</td>\n",
       "    </tr>\n",
       "    <tr>\n",
       "        <td>Oxford Cloth</td>\n",
       "        <td>Shirt</td>\n",
       "        <td>114</td>\n",
       "    </tr>\n",
       "    <tr>\n",
       "        <td>Pullover</td>\n",
       "        <td>Jacket</td>\n",
       "        <td>114</td>\n",
       "    </tr>\n",
       "</table>"
      ],
      "text/plain": [
       "[('Dress', 'Shirt', 119),\n",
       " ('Parka', 'Jacket', 119),\n",
       " ('Slim-Fit', 'Trousers', 119),\n",
       " ('Cardigan', 'Jacket', 118),\n",
       " ('Polo', 'Shirt', 117),\n",
       " ('Linen', 'Shirt', 116),\n",
       " ('Denim', 'Shirt', 115),\n",
       " ('Coach', 'Jacket', 115),\n",
       " ('Oxford Cloth', 'Shirt', 114),\n",
       " ('Pullover', 'Jacket', 114)]"
      ]
     },
     "execution_count": 21,
     "metadata": {},
     "output_type": "execute_result"
    }
   ],
   "source": [
    "# Os 10 produtos diferentes mais caros\n",
    "%%sql\n",
    "SELECT DISTINCT(product_name) AS 'Product Name', \n",
    "product_type AS 'Product Type', \n",
    "price AS 'Price' \n",
    "FROM products \n",
    "ORDER BY price DESC LIMIT 10;"
   ]
  },
  {
   "cell_type": "markdown",
   "id": "d104030b",
   "metadata": {},
   "source": [
    "### Pedidos"
   ]
  },
  {
   "cell_type": "code",
   "execution_count": 22,
   "id": "7430b175",
   "metadata": {
    "ExecuteTime": {
     "end_time": "2022-06-19T16:40:31.308732Z",
     "start_time": "2022-06-19T16:40:31.302731Z"
    }
   },
   "outputs": [
    {
     "name": "stdout",
     "output_type": "stream",
     "text": [
      " * sqlite:///sales.db\n",
      "Done.\n"
     ]
    },
    {
     "data": {
      "text/html": [
       "<table>\n",
       "    <tr>\n",
       "        <th>Oldest Order Date</th>\n",
       "        <th>Recent Order Date</th>\n",
       "    </tr>\n",
       "    <tr>\n",
       "        <td>2021-01-01</td>\n",
       "        <td>2021-10-24</td>\n",
       "    </tr>\n",
       "</table>"
      ],
      "text/plain": [
       "[('2021-01-01', '2021-10-24')]"
      ]
     },
     "execution_count": 22,
     "metadata": {},
     "output_type": "execute_result"
    }
   ],
   "source": [
    "# A data de pedido mais antiga e mais recente\n",
    "%%sql\n",
    "SELECT MIN(order_date) AS 'Oldest Order Date', \n",
    "MAX(order_date) AS 'Recent Order Date' \n",
    "FROM orders;"
   ]
  },
  {
   "cell_type": "markdown",
   "id": "894c8276",
   "metadata": {},
   "source": [
    "### Vendas"
   ]
  },
  {
   "cell_type": "code",
   "execution_count": 6,
   "id": "d7eb6b83",
   "metadata": {
    "ExecuteTime": {
     "end_time": "2022-06-19T18:34:21.435339Z",
     "start_time": "2022-06-19T18:34:21.415355Z"
    }
   },
   "outputs": [
    {
     "name": "stdout",
     "output_type": "stream",
     "text": [
      " * sqlite:///sales.db\n",
      "Done.\n"
     ]
    },
    {
     "data": {
      "text/html": [
       "<table>\n",
       "    <tr>\n",
       "        <th>Number of Sales</th>\n",
       "        <th>Sales Total</th>\n",
       "        <th>Average Sale Price</th>\n",
       "    </tr>\n",
       "    <tr>\n",
       "        <td>5000</td>\n",
       "        <td>1031800</td>\n",
       "        <td>206.36</td>\n",
       "    </tr>\n",
       "</table>"
      ],
      "text/plain": [
       "[(5000, 1031800, 206.36)]"
      ]
     },
     "execution_count": 6,
     "metadata": {},
     "output_type": "execute_result"
    }
   ],
   "source": [
    "# O número total de vendas (quantidade e receita) e o valor médio de venda\n",
    "%%sql\n",
    "SELECT COUNT(sales_id) AS 'Number of Sales', \n",
    "SUM(total_price) AS 'Sales Total',\n",
    "AVG(total_price) AS 'Average Sale Price'\n",
    "FROM sales;"
   ]
  },
  {
   "cell_type": "code",
   "execution_count": 24,
   "id": "c4a8b8f4",
   "metadata": {
    "ExecuteTime": {
     "end_time": "2022-06-19T16:41:03.465639Z",
     "start_time": "2022-06-19T16:41:03.456642Z"
    }
   },
   "outputs": [
    {
     "name": "stdout",
     "output_type": "stream",
     "text": [
      " * sqlite:///sales.db\n",
      "Done.\n"
     ]
    },
    {
     "data": {
      "text/html": [
       "<table>\n",
       "    <tr>\n",
       "        <th>Number of Order</th>\n",
       "        <th>Sale Price</th>\n",
       "    </tr>\n",
       "    <tr>\n",
       "        <td>45</td>\n",
       "        <td>357</td>\n",
       "    </tr>\n",
       "    <tr>\n",
       "        <td>61</td>\n",
       "        <td>357</td>\n",
       "    </tr>\n",
       "    <tr>\n",
       "        <td>75</td>\n",
       "        <td>357</td>\n",
       "    </tr>\n",
       "    <tr>\n",
       "        <td>77</td>\n",
       "        <td>357</td>\n",
       "    </tr>\n",
       "    <tr>\n",
       "        <td>78</td>\n",
       "        <td>357</td>\n",
       "    </tr>\n",
       "    <tr>\n",
       "        <td>95</td>\n",
       "        <td>357</td>\n",
       "    </tr>\n",
       "    <tr>\n",
       "        <td>100</td>\n",
       "        <td>357</td>\n",
       "    </tr>\n",
       "    <tr>\n",
       "        <td>108</td>\n",
       "        <td>357</td>\n",
       "    </tr>\n",
       "    <tr>\n",
       "        <td>120</td>\n",
       "        <td>357</td>\n",
       "    </tr>\n",
       "    <tr>\n",
       "        <td>123</td>\n",
       "        <td>357</td>\n",
       "    </tr>\n",
       "</table>"
      ],
      "text/plain": [
       "[(45, 357),\n",
       " (61, 357),\n",
       " (75, 357),\n",
       " (77, 357),\n",
       " (78, 357),\n",
       " (95, 357),\n",
       " (100, 357),\n",
       " (108, 357),\n",
       " (120, 357),\n",
       " (123, 357)]"
      ]
     },
     "execution_count": 24,
     "metadata": {},
     "output_type": "execute_result"
    }
   ],
   "source": [
    "# As 10 maiores vendas cadastradas\n",
    "%%sql\n",
    "SELECT DISTINCT(order_id) AS 'Number of Order', \n",
    "total_price AS 'Sale Price' \n",
    "FROM sales \n",
    "ORDER BY total_price DESC LIMIT 10;"
   ]
  },
  {
   "cell_type": "code",
   "execution_count": 25,
   "id": "07c39037",
   "metadata": {
    "ExecuteTime": {
     "end_time": "2022-06-19T16:41:20.806636Z",
     "start_time": "2022-06-19T16:41:20.801644Z"
    }
   },
   "outputs": [
    {
     "name": "stdout",
     "output_type": "stream",
     "text": [
      " * sqlite:///sales.db\n",
      "Done.\n"
     ]
    },
    {
     "data": {
      "text/html": [
       "<table>\n",
       "    <tr>\n",
       "        <th>Min. Sale Price</th>\n",
       "        <th>Max. Sale Price</th>\n",
       "    </tr>\n",
       "    <tr>\n",
       "        <td>90</td>\n",
       "        <td>357</td>\n",
       "    </tr>\n",
       "</table>"
      ],
      "text/plain": [
       "[(90, 357)]"
      ]
     },
     "execution_count": 25,
     "metadata": {},
     "output_type": "execute_result"
    }
   ],
   "source": [
    "# A venda mais barata e a venda mais cara\n",
    "%%sql\n",
    "SELECT MIN(total_price) AS 'Min. Sale Price', \n",
    "MAX(total_price) AS 'Max. Sale Price' \n",
    "FROM sales;"
   ]
  },
  {
   "cell_type": "markdown",
   "id": "c4132742",
   "metadata": {},
   "source": [
    "## Perguntas de Negócio"
   ]
  },
  {
   "cell_type": "markdown",
   "id": "2b81ce54",
   "metadata": {},
   "source": [
    "### 1. Qual a faixa etária que mais comprou? (Número de Pedidos e Receita)"
   ]
  },
  {
   "cell_type": "code",
   "execution_count": 8,
   "id": "a25fecd2",
   "metadata": {
    "ExecuteTime": {
     "end_time": "2022-06-25T17:00:09.610905Z",
     "start_time": "2022-06-25T17:00:09.591901Z"
    }
   },
   "outputs": [
    {
     "name": "stdout",
     "output_type": "stream",
     "text": [
      " * sqlite:///sales.db\n",
      "Done.\n"
     ]
    },
    {
     "data": {
      "text/html": [
       "<table>\n",
       "    <tr>\n",
       "        <th>Age</th>\n",
       "        <th>Number of Orders</th>\n",
       "    </tr>\n",
       "    <tr>\n",
       "        <td>57</td>\n",
       "        <td>34</td>\n",
       "    </tr>\n",
       "    <tr>\n",
       "        <td>75</td>\n",
       "        <td>27</td>\n",
       "    </tr>\n",
       "    <tr>\n",
       "        <td>32</td>\n",
       "        <td>27</td>\n",
       "    </tr>\n",
       "    <tr>\n",
       "        <td>63</td>\n",
       "        <td>26</td>\n",
       "    </tr>\n",
       "    <tr>\n",
       "        <td>38</td>\n",
       "        <td>26</td>\n",
       "    </tr>\n",
       "    <tr>\n",
       "        <td>34</td>\n",
       "        <td>26</td>\n",
       "    </tr>\n",
       "    <tr>\n",
       "        <td>45</td>\n",
       "        <td>24</td>\n",
       "    </tr>\n",
       "    <tr>\n",
       "        <td>25</td>\n",
       "        <td>24</td>\n",
       "    </tr>\n",
       "    <tr>\n",
       "        <td>27</td>\n",
       "        <td>23</td>\n",
       "    </tr>\n",
       "    <tr>\n",
       "        <td>59</td>\n",
       "        <td>22</td>\n",
       "    </tr>\n",
       "</table>"
      ],
      "text/plain": [
       "[(57, 34),\n",
       " (75, 27),\n",
       " (32, 27),\n",
       " (63, 26),\n",
       " (38, 26),\n",
       " (34, 26),\n",
       " (45, 24),\n",
       " (25, 24),\n",
       " (27, 23),\n",
       " (59, 22)]"
      ]
     },
     "execution_count": 8,
     "metadata": {},
     "output_type": "execute_result"
    }
   ],
   "source": [
    "%%sql\n",
    "SELECT c.age AS 'Age', \n",
    "COUNT(order_id) AS 'Number of Orders' \n",
    "FROM customers AS c \n",
    "JOIN orders AS o ON c.customer_id = o.customer_id \n",
    "GROUP BY c.age \n",
    "ORDER BY COUNT(order_id) \n",
    "DESC LIMIT 10;"
   ]
  },
  {
   "cell_type": "markdown",
   "id": "3e2225e0",
   "metadata": {},
   "source": [
    "Temos muitas idades diferentes cadastradas, de modo que faz mais sentido responder essa pergunta agrupando as idades em faixas etárias. \n",
    "\n",
    "Para tanto, vamos adicionar uma nova coluna/atributo de faixa etária."
   ]
  },
  {
   "cell_type": "code",
   "execution_count": null,
   "id": "6b5ca63f",
   "metadata": {},
   "outputs": [],
   "source": [
    "%%sql\n",
    "ALTER TABLE customers ADD age_bracket TEXT;"
   ]
  },
  {
   "cell_type": "code",
   "execution_count": null,
   "id": "372206b4",
   "metadata": {},
   "outputs": [],
   "source": [
    "%%sql\n",
    "UPDATE customers SET age_bracket = 'Youth' WHERE age <= '25';"
   ]
  },
  {
   "cell_type": "code",
   "execution_count": null,
   "id": "454008bb",
   "metadata": {},
   "outputs": [],
   "source": [
    "%%sql\n",
    "UPDATE customers SET age_bracket = 'Adult' WHERE age > '25' AND age <= '59;"
   ]
  },
  {
   "cell_type": "code",
   "execution_count": null,
   "id": "b0edec88",
   "metadata": {},
   "outputs": [],
   "source": [
    "%%sql\n",
    "UPDATE customers SET age_bracket = 'Old' WHERE age >= '60';"
   ]
  },
  {
   "cell_type": "code",
   "execution_count": 9,
   "id": "6830c1ff",
   "metadata": {
    "ExecuteTime": {
     "end_time": "2022-06-25T17:02:35.706910Z",
     "start_time": "2022-06-25T17:02:35.701909Z"
    }
   },
   "outputs": [
    {
     "name": "stdout",
     "output_type": "stream",
     "text": [
      " * sqlite:///sales.db\n",
      "Done.\n"
     ]
    },
    {
     "data": {
      "text/html": [
       "<table>\n",
       "    <tr>\n",
       "        <th>Age Bracket</th>\n",
       "        <th>Number of Customers</th>\n",
       "    </tr>\n",
       "    <tr>\n",
       "        <td>Adult</td>\n",
       "        <td>552</td>\n",
       "    </tr>\n",
       "    <tr>\n",
       "        <td>Old</td>\n",
       "        <td>343</td>\n",
       "    </tr>\n",
       "    <tr>\n",
       "        <td>Youth</td>\n",
       "        <td>105</td>\n",
       "    </tr>\n",
       "</table>"
      ],
      "text/plain": [
       "[('Adult', 552), ('Old', 343), ('Youth', 105)]"
      ]
     },
     "execution_count": 9,
     "metadata": {},
     "output_type": "execute_result"
    }
   ],
   "source": [
    "%%sql\n",
    "SELECT age_bracket AS 'Age Bracket', \n",
    "COUNT(customer_id) AS 'Number of Customers' \n",
    "FROM customers GROUP BY age_bracket;"
   ]
  },
  {
   "cell_type": "markdown",
   "id": "b0b0d687",
   "metadata": {},
   "source": [
    "Agrupando as idades em três faixas etárias, fica mais fácil analisar qual a faixa etária que mais comprou produtos da empresa."
   ]
  },
  {
   "cell_type": "code",
   "execution_count": 12,
   "id": "828b1fe3",
   "metadata": {
    "ExecuteTime": {
     "end_time": "2022-06-25T17:04:28.397134Z",
     "start_time": "2022-06-25T17:04:28.385139Z"
    }
   },
   "outputs": [
    {
     "name": "stdout",
     "output_type": "stream",
     "text": [
      " * sqlite:///sales.db\n",
      "Done.\n"
     ]
    },
    {
     "data": {
      "text/html": [
       "<table>\n",
       "    <tr>\n",
       "        <th>Age Bracket</th>\n",
       "        <th>Number of Orders</th>\n",
       "        <th>Total Sales</th>\n",
       "        <th>% of Sales</th>\n",
       "    </tr>\n",
       "    <tr>\n",
       "        <td>Adult</td>\n",
       "        <td>2835</td>\n",
       "        <td>586627</td>\n",
       "        <td>56.85%</td>\n",
       "    </tr>\n",
       "    <tr>\n",
       "        <td>Old</td>\n",
       "        <td>1577</td>\n",
       "        <td>326381</td>\n",
       "        <td>31.63%</td>\n",
       "    </tr>\n",
       "    <tr>\n",
       "        <td>Youth</td>\n",
       "        <td>588</td>\n",
       "        <td>118792</td>\n",
       "        <td>11.51%</td>\n",
       "    </tr>\n",
       "</table>"
      ],
      "text/plain": [
       "[('Adult', 2835, 586627, '56.85%'),\n",
       " ('Old', 1577, 326381, '31.63%'),\n",
       " ('Youth', 588, 118792, '11.51%')]"
      ]
     },
     "execution_count": 12,
     "metadata": {},
     "output_type": "execute_result"
    }
   ],
   "source": [
    "%%sql\n",
    "SELECT c.age_bracket AS 'Age Bracket', \n",
    "COUNT(o.order_id) AS 'Number of Orders', \n",
    "SUM(s.total_price) AS 'Total Sales', \n",
    "printf('%2.2f%%', (SUM(s.total_price) * 100.00 / (SELECT SUM(s.total_price) FROM sales AS s))) AS '% of Sales' \n",
    "FROM customers AS c \n",
    "JOIN orders AS o ON c.customer_id = o.customer_id \n",
    "JOIN sales AS s ON o.order_id = s.order_id \n",
    "GROUP BY c.age_bracket;"
   ]
  },
  {
   "cell_type": "markdown",
   "id": "ddbe2704",
   "metadata": {},
   "source": [
    "Podemos ver que 56.85% das vendas são feitas para Adultos (idade entre 25 e 59 anos), 31.63% para Idosos (idade acima de 60 anos), e 11.51% para Jovens (idade abaixo de 24 anos)."
   ]
  },
  {
   "cell_type": "markdown",
   "id": "3cde4165",
   "metadata": {},
   "source": [
    "### 2. Qual o gênero que mais comprou? (Número de Pedidos e Receita)"
   ]
  },
  {
   "cell_type": "code",
   "execution_count": 28,
   "id": "e27badf7",
   "metadata": {
    "ExecuteTime": {
     "end_time": "2022-06-25T17:22:42.532685Z",
     "start_time": "2022-06-25T17:22:42.520690Z"
    }
   },
   "outputs": [
    {
     "name": "stdout",
     "output_type": "stream",
     "text": [
      " * sqlite:///sales.db\n",
      "Done.\n"
     ]
    },
    {
     "data": {
      "text/html": [
       "<table>\n",
       "    <tr>\n",
       "        <th>Gender</th>\n",
       "        <th>Number of Orders</th>\n",
       "        <th>Total Sales</th>\n",
       "        <th>% of Sales</th>\n",
       "    </tr>\n",
       "    <tr>\n",
       "        <td>Female</td>\n",
       "        <td>712</td>\n",
       "        <td>145404</td>\n",
       "        <td>14.09%</td>\n",
       "    </tr>\n",
       "    <tr>\n",
       "        <td>Genderfluid</td>\n",
       "        <td>687</td>\n",
       "        <td>142077</td>\n",
       "        <td>13.77%</td>\n",
       "    </tr>\n",
       "    <tr>\n",
       "        <td>Male</td>\n",
       "        <td>672</td>\n",
       "        <td>138988</td>\n",
       "        <td>13.47%</td>\n",
       "    </tr>\n",
       "    <tr>\n",
       "        <td>Polygender</td>\n",
       "        <td>636</td>\n",
       "        <td>132548</td>\n",
       "        <td>12.85%</td>\n",
       "    </tr>\n",
       "    <tr>\n",
       "        <td>Genderqueer</td>\n",
       "        <td>647</td>\n",
       "        <td>132389</td>\n",
       "        <td>12.83%</td>\n",
       "    </tr>\n",
       "    <tr>\n",
       "        <td>Non-binary</td>\n",
       "        <td>598</td>\n",
       "        <td>126201</td>\n",
       "        <td>12.23%</td>\n",
       "    </tr>\n",
       "    <tr>\n",
       "        <td>Agender</td>\n",
       "        <td>526</td>\n",
       "        <td>107179</td>\n",
       "        <td>10.39%</td>\n",
       "    </tr>\n",
       "    <tr>\n",
       "        <td>Bigender</td>\n",
       "        <td>522</td>\n",
       "        <td>107014</td>\n",
       "        <td>10.37%</td>\n",
       "    </tr>\n",
       "</table>"
      ],
      "text/plain": [
       "[('Female', 712, 145404, '14.09%'),\n",
       " ('Genderfluid', 687, 142077, '13.77%'),\n",
       " ('Male', 672, 138988, '13.47%'),\n",
       " ('Polygender', 636, 132548, '12.85%'),\n",
       " ('Genderqueer', 647, 132389, '12.83%'),\n",
       " ('Non-binary', 598, 126201, '12.23%'),\n",
       " ('Agender', 526, 107179, '10.39%'),\n",
       " ('Bigender', 522, 107014, '10.37%')]"
      ]
     },
     "execution_count": 28,
     "metadata": {},
     "output_type": "execute_result"
    }
   ],
   "source": [
    "%%sql\n",
    "SELECT c.gender AS 'Gender', \n",
    "COUNT(o.order_id) AS 'Number of Orders', \n",
    "SUM(s.total_price) AS 'Total Sales', \n",
    "printf('%2.2f%%', (SUM(s.total_price) * 100.00 / (SELECT SUM(s.total_price) FROM sales AS s))) AS '% of Sales' \n",
    "FROM customers AS c \n",
    "JOIN orders AS o ON c.customer_id = o.customer_id \n",
    "JOIN sales AS s ON o.order_id = s.order_id \n",
    "GROUP BY c.gender \n",
    "ORDER BY SUM(s.total_price) DESC;"
   ]
  },
  {
   "cell_type": "markdown",
   "id": "95396153",
   "metadata": {},
   "source": [
    "Tratando de gêneros, podemos ver que não existe uma discrepância muito grande entre as vendas, mas são as mulheres que mais compram, representando 14.09% das vendas."
   ]
  },
  {
   "cell_type": "markdown",
   "id": "0689b8dd",
   "metadata": {},
   "source": [
    "### 3. Qual o Estado que mais comprou? (Número de Pedidos e Receita)"
   ]
  },
  {
   "cell_type": "code",
   "execution_count": 29,
   "id": "ea26a6be",
   "metadata": {
    "ExecuteTime": {
     "end_time": "2022-06-25T17:25:35.423300Z",
     "start_time": "2022-06-25T17:25:35.413298Z"
    }
   },
   "outputs": [
    {
     "name": "stdout",
     "output_type": "stream",
     "text": [
      " * sqlite:///sales.db\n",
      "Done.\n"
     ]
    },
    {
     "data": {
      "text/html": [
       "<table>\n",
       "    <tr>\n",
       "        <th>State</th>\n",
       "        <th>Number of Orders</th>\n",
       "        <th>Total Sales</th>\n",
       "        <th>% of Sales</th>\n",
       "    </tr>\n",
       "    <tr>\n",
       "        <td>South Australia</td>\n",
       "        <td>718</td>\n",
       "        <td>147816</td>\n",
       "        <td>14.33%</td>\n",
       "    </tr>\n",
       "    <tr>\n",
       "        <td>Queensland</td>\n",
       "        <td>687</td>\n",
       "        <td>142062</td>\n",
       "        <td>13.77%</td>\n",
       "    </tr>\n",
       "    <tr>\n",
       "        <td>New South Wales</td>\n",
       "        <td>647</td>\n",
       "        <td>131744</td>\n",
       "        <td>12.77%</td>\n",
       "    </tr>\n",
       "    <tr>\n",
       "        <td>Australian Capital Territory</td>\n",
       "        <td>638</td>\n",
       "        <td>130442</td>\n",
       "        <td>12.64%</td>\n",
       "    </tr>\n",
       "    <tr>\n",
       "        <td>Western Australia</td>\n",
       "        <td>604</td>\n",
       "        <td>125430</td>\n",
       "        <td>12.16%</td>\n",
       "    </tr>\n",
       "    <tr>\n",
       "        <td>Tasmania</td>\n",
       "        <td>586</td>\n",
       "        <td>122095</td>\n",
       "        <td>11.83%</td>\n",
       "    </tr>\n",
       "    <tr>\n",
       "        <td>Victoria</td>\n",
       "        <td>591</td>\n",
       "        <td>120357</td>\n",
       "        <td>11.66%</td>\n",
       "    </tr>\n",
       "    <tr>\n",
       "        <td>Northern Territory</td>\n",
       "        <td>529</td>\n",
       "        <td>111854</td>\n",
       "        <td>10.84%</td>\n",
       "    </tr>\n",
       "</table>"
      ],
      "text/plain": [
       "[('South Australia', 718, 147816, '14.33%'),\n",
       " ('Queensland', 687, 142062, '13.77%'),\n",
       " ('New South Wales', 647, 131744, '12.77%'),\n",
       " ('Australian Capital Territory', 638, 130442, '12.64%'),\n",
       " ('Western Australia', 604, 125430, '12.16%'),\n",
       " ('Tasmania', 586, 122095, '11.83%'),\n",
       " ('Victoria', 591, 120357, '11.66%'),\n",
       " ('Northern Territory', 529, 111854, '10.84%')]"
      ]
     },
     "execution_count": 29,
     "metadata": {},
     "output_type": "execute_result"
    }
   ],
   "source": [
    "%%sql\n",
    "SELECT c.state AS 'State', \n",
    "COUNT(o.order_id) AS 'Number of Orders', \n",
    "SUM(s.total_price) AS 'Total Sales',\n",
    "printf('%2.2f%%', (SUM(s.total_price) * 100.00 / (SELECT SUM(s.total_price) FROM sales AS s))) AS '% of Sales' \n",
    "FROM customers AS c \n",
    "JOIN orders AS o ON c.customer_id = o.customer_id \n",
    "JOIN sales AS s ON o.order_id = s.order_id \n",
    "GROUP BY c.state \n",
    "ORDER BY SUM(s.total_price) DESC;"
   ]
  },
  {
   "cell_type": "markdown",
   "id": "ecd32d63",
   "metadata": {},
   "source": [
    "Da mesma forma que os gêneros, não temos uma discrepância muito grande entre as vendas, sendo o Estado que mais comprou o Estado de South Australia, representando 14.33% das vendas."
   ]
  },
  {
   "cell_type": "markdown",
   "id": "f763926a",
   "metadata": {},
   "source": [
    "### 4. Quais foram os meses com o maior número de pedidos? (Número de Pedidos e Receita)"
   ]
  },
  {
   "cell_type": "code",
   "execution_count": 31,
   "id": "3dab8e4d",
   "metadata": {
    "ExecuteTime": {
     "end_time": "2022-06-25T17:30:12.313454Z",
     "start_time": "2022-06-25T17:30:12.304451Z"
    }
   },
   "outputs": [
    {
     "name": "stdout",
     "output_type": "stream",
     "text": [
      " * sqlite:///sales.db\n",
      "Done.\n"
     ]
    },
    {
     "data": {
      "text/html": [
       "<table>\n",
       "    <tr>\n",
       "        <th>Month of Order</th>\n",
       "        <th>Number of Orders</th>\n",
       "        <th>Total Sales</th>\n",
       "        <th>% of Sales</th>\n",
       "    </tr>\n",
       "    <tr>\n",
       "        <td>3</td>\n",
       "        <td>635</td>\n",
       "        <td>131364</td>\n",
       "        <td>12.73%</td>\n",
       "    </tr>\n",
       "    <tr>\n",
       "        <td>1</td>\n",
       "        <td>577</td>\n",
       "        <td>119333</td>\n",
       "        <td>11.57%</td>\n",
       "    </tr>\n",
       "    <tr>\n",
       "        <td>7</td>\n",
       "        <td>567</td>\n",
       "        <td>116081</td>\n",
       "        <td>11.25%</td>\n",
       "    </tr>\n",
       "    <tr>\n",
       "        <td>8</td>\n",
       "        <td>505</td>\n",
       "        <td>104565</td>\n",
       "        <td>10.13%</td>\n",
       "    </tr>\n",
       "    <tr>\n",
       "        <td>6</td>\n",
       "        <td>501</td>\n",
       "        <td>101458</td>\n",
       "        <td>9.83%</td>\n",
       "    </tr>\n",
       "    <tr>\n",
       "        <td>4</td>\n",
       "        <td>478</td>\n",
       "        <td>97530</td>\n",
       "        <td>9.45%</td>\n",
       "    </tr>\n",
       "    <tr>\n",
       "        <td>9</td>\n",
       "        <td>458</td>\n",
       "        <td>96526</td>\n",
       "        <td>9.36%</td>\n",
       "    </tr>\n",
       "    <tr>\n",
       "        <td>2</td>\n",
       "        <td>467</td>\n",
       "        <td>95080</td>\n",
       "        <td>9.21%</td>\n",
       "    </tr>\n",
       "    <tr>\n",
       "        <td>5</td>\n",
       "        <td>417</td>\n",
       "        <td>85597</td>\n",
       "        <td>8.30%</td>\n",
       "    </tr>\n",
       "    <tr>\n",
       "        <td>10</td>\n",
       "        <td>395</td>\n",
       "        <td>84266</td>\n",
       "        <td>8.17%</td>\n",
       "    </tr>\n",
       "</table>"
      ],
      "text/plain": [
       "[(3, 635, 131364, '12.73%'),\n",
       " (1, 577, 119333, '11.57%'),\n",
       " (7, 567, 116081, '11.25%'),\n",
       " (8, 505, 104565, '10.13%'),\n",
       " (6, 501, 101458, '9.83%'),\n",
       " (4, 478, 97530, '9.45%'),\n",
       " (9, 458, 96526, '9.36%'),\n",
       " (2, 467, 95080, '9.21%'),\n",
       " (5, 417, 85597, '8.30%'),\n",
       " (10, 395, 84266, '8.17%')]"
      ]
     },
     "execution_count": 31,
     "metadata": {},
     "output_type": "execute_result"
    }
   ],
   "source": [
    "%%sql\n",
    "SELECT o.order_date_month AS 'Month of Order',\n",
    "COUNT(o.order_id) AS 'Number of Orders', \n",
    "SUM(s.total_price) AS 'Total Sales', \n",
    "printf('%2.2f%%', (SUM(s.total_price) * 100.00 / (SELECT SUM(s.total_price) FROM sales AS s))) AS '% of Sales' \n",
    "FROM orders AS o \n",
    "JOIN sales AS s ON o.order_id = s.order_id \n",
    "GROUP BY o.order_date_month \n",
    "ORDER BY SUM(s.total_price) DESC;"
   ]
  },
  {
   "cell_type": "markdown",
   "id": "f242f02b",
   "metadata": {},
   "source": [
    "Considerando que o conjunto de dados possui registros de Janeiro a Outubro, podemos ver que os três melhores meses de venda (até agora) foram Março, Janeiro e Julho. "
   ]
  },
  {
   "cell_type": "markdown",
   "id": "56697505",
   "metadata": {},
   "source": [
    "### 5. Quais os produtos mais vendidos? (Número de Pedidos e Receita)"
   ]
  },
  {
   "cell_type": "code",
   "execution_count": 20,
   "id": "63d418a9",
   "metadata": {
    "ExecuteTime": {
     "end_time": "2022-06-25T17:11:17.459381Z",
     "start_time": "2022-06-25T17:11:17.446378Z"
    }
   },
   "outputs": [
    {
     "name": "stdout",
     "output_type": "stream",
     "text": [
      " * sqlite:///sales.db\n",
      "Done.\n"
     ]
    },
    {
     "data": {
      "text/html": [
       "<table>\n",
       "    <tr>\n",
       "        <th>Product Name</th>\n",
       "        <th>Product Type</th>\n",
       "        <th>Number of Orders</th>\n",
       "        <th>Total Sales</th>\n",
       "        <th>% of Sales</th>\n",
       "    </tr>\n",
       "    <tr>\n",
       "        <td>Denim</td>\n",
       "        <td>Jacket</td>\n",
       "        <td>273</td>\n",
       "        <td>52399</td>\n",
       "        <td>5.08%</td>\n",
       "    </tr>\n",
       "    <tr>\n",
       "        <td>Casual Slim Fit</td>\n",
       "        <td>Shirt</td>\n",
       "        <td>154</td>\n",
       "        <td>36414</td>\n",
       "        <td>3.53%</td>\n",
       "    </tr>\n",
       "    <tr>\n",
       "        <td>Trench Coat</td>\n",
       "        <td>Jacket</td>\n",
       "        <td>146</td>\n",
       "        <td>35581</td>\n",
       "        <td>3.45%</td>\n",
       "    </tr>\n",
       "    <tr>\n",
       "        <td>Shearling</td>\n",
       "        <td>Jacket</td>\n",
       "        <td>150</td>\n",
       "        <td>35334</td>\n",
       "        <td>3.42%</td>\n",
       "    </tr>\n",
       "    <tr>\n",
       "        <td>Puffer</td>\n",
       "        <td>Jacket</td>\n",
       "        <td>140</td>\n",
       "        <td>35164</td>\n",
       "        <td>3.41%</td>\n",
       "    </tr>\n",
       "    <tr>\n",
       "        <td>Flannel</td>\n",
       "        <td>Shirt</td>\n",
       "        <td>141</td>\n",
       "        <td>33158</td>\n",
       "        <td>3.21%</td>\n",
       "    </tr>\n",
       "    <tr>\n",
       "        <td>Cropped</td>\n",
       "        <td>Trousers</td>\n",
       "        <td>135</td>\n",
       "        <td>32660</td>\n",
       "        <td>3.17%</td>\n",
       "    </tr>\n",
       "    <tr>\n",
       "        <td>Pleated</td>\n",
       "        <td>Trousers</td>\n",
       "        <td>147</td>\n",
       "        <td>32340</td>\n",
       "        <td>3.13%</td>\n",
       "    </tr>\n",
       "    <tr>\n",
       "        <td>Joggers</td>\n",
       "        <td>Trousers</td>\n",
       "        <td>164</td>\n",
       "        <td>31062</td>\n",
       "        <td>3.01%</td>\n",
       "    </tr>\n",
       "    <tr>\n",
       "        <td>Chambray</td>\n",
       "        <td>Shirt</td>\n",
       "        <td>141</td>\n",
       "        <td>30740</td>\n",
       "        <td>2.98%</td>\n",
       "    </tr>\n",
       "    <tr>\n",
       "        <td>Parka</td>\n",
       "        <td>Jacket</td>\n",
       "        <td>134</td>\n",
       "        <td>30397</td>\n",
       "        <td>2.95%</td>\n",
       "    </tr>\n",
       "    <tr>\n",
       "        <td>Bomber</td>\n",
       "        <td>Jacket</td>\n",
       "        <td>150</td>\n",
       "        <td>29700</td>\n",
       "        <td>2.88%</td>\n",
       "    </tr>\n",
       "    <tr>\n",
       "        <td>Chinos</td>\n",
       "        <td>Trousers</td>\n",
       "        <td>135</td>\n",
       "        <td>29380</td>\n",
       "        <td>2.85%</td>\n",
       "    </tr>\n",
       "    <tr>\n",
       "        <td>Windbreaker</td>\n",
       "        <td>Jacket</td>\n",
       "        <td>143</td>\n",
       "        <td>29274</td>\n",
       "        <td>2.84%</td>\n",
       "    </tr>\n",
       "    <tr>\n",
       "        <td>Cardigan</td>\n",
       "        <td>Jacket</td>\n",
       "        <td>134</td>\n",
       "        <td>29120</td>\n",
       "        <td>2.82%</td>\n",
       "    </tr>\n",
       "    <tr>\n",
       "        <td>Peacoat</td>\n",
       "        <td>Jacket</td>\n",
       "        <td>132</td>\n",
       "        <td>28994</td>\n",
       "        <td>2.81%</td>\n",
       "    </tr>\n",
       "    <tr>\n",
       "        <td>Tracksuit Bottoms</td>\n",
       "        <td>Trousers</td>\n",
       "        <td>130</td>\n",
       "        <td>28784</td>\n",
       "        <td>2.79%</td>\n",
       "    </tr>\n",
       "    <tr>\n",
       "        <td>Slim-Fit</td>\n",
       "        <td>Trousers</td>\n",
       "        <td>154</td>\n",
       "        <td>27936</td>\n",
       "        <td>2.71%</td>\n",
       "    </tr>\n",
       "    <tr>\n",
       "        <td>Oxford Cloth</td>\n",
       "        <td>Shirt</td>\n",
       "        <td>146</td>\n",
       "        <td>27744</td>\n",
       "        <td>2.69%</td>\n",
       "    </tr>\n",
       "    <tr>\n",
       "        <td>Drawstring</td>\n",
       "        <td>Trousers</td>\n",
       "        <td>147</td>\n",
       "        <td>27648</td>\n",
       "        <td>2.68%</td>\n",
       "    </tr>\n",
       "    <tr>\n",
       "        <td>High-Waisted</td>\n",
       "        <td>Trousers</td>\n",
       "        <td>140</td>\n",
       "        <td>27522</td>\n",
       "        <td>2.67%</td>\n",
       "    </tr>\n",
       "    <tr>\n",
       "        <td>Camp Collared</td>\n",
       "        <td>Shirt</td>\n",
       "        <td>139</td>\n",
       "        <td>27342</td>\n",
       "        <td>2.65%</td>\n",
       "    </tr>\n",
       "    <tr>\n",
       "        <td>Cargo Pants</td>\n",
       "        <td>Trousers</td>\n",
       "        <td>134</td>\n",
       "        <td>27234</td>\n",
       "        <td>2.64%</td>\n",
       "    </tr>\n",
       "    <tr>\n",
       "        <td>Relaxed Leg</td>\n",
       "        <td>Trousers</td>\n",
       "        <td>146</td>\n",
       "        <td>27090</td>\n",
       "        <td>2.63%</td>\n",
       "    </tr>\n",
       "    <tr>\n",
       "        <td>Cuban Collar</td>\n",
       "        <td>Shirt</td>\n",
       "        <td>122</td>\n",
       "        <td>26670</td>\n",
       "        <td>2.58%</td>\n",
       "    </tr>\n",
       "    <tr>\n",
       "        <td>Henley</td>\n",
       "        <td>Shirt</td>\n",
       "        <td>146</td>\n",
       "        <td>26414</td>\n",
       "        <td>2.56%</td>\n",
       "    </tr>\n",
       "    <tr>\n",
       "        <td>Wool</td>\n",
       "        <td>Trousers</td>\n",
       "        <td>125</td>\n",
       "        <td>26394</td>\n",
       "        <td>2.56%</td>\n",
       "    </tr>\n",
       "    <tr>\n",
       "        <td>Leather</td>\n",
       "        <td>Jacket</td>\n",
       "        <td>136</td>\n",
       "        <td>25774</td>\n",
       "        <td>2.50%</td>\n",
       "    </tr>\n",
       "    <tr>\n",
       "        <td>Mandarin Collar</td>\n",
       "        <td>Shirt</td>\n",
       "        <td>124</td>\n",
       "        <td>25724</td>\n",
       "        <td>2.49%</td>\n",
       "    </tr>\n",
       "    <tr>\n",
       "        <td>Dress</td>\n",
       "        <td>Shirt</td>\n",
       "        <td>127</td>\n",
       "        <td>25272</td>\n",
       "        <td>2.45%</td>\n",
       "    </tr>\n",
       "    <tr>\n",
       "        <td>Pullover</td>\n",
       "        <td>Jacket</td>\n",
       "        <td>143</td>\n",
       "        <td>25116</td>\n",
       "        <td>2.43%</td>\n",
       "    </tr>\n",
       "    <tr>\n",
       "        <td>Polo</td>\n",
       "        <td>Shirt</td>\n",
       "        <td>131</td>\n",
       "        <td>25080</td>\n",
       "        <td>2.43%</td>\n",
       "    </tr>\n",
       "    <tr>\n",
       "        <td>Coach</td>\n",
       "        <td>Jacket</td>\n",
       "        <td>134</td>\n",
       "        <td>24645</td>\n",
       "        <td>2.39%</td>\n",
       "    </tr>\n",
       "    <tr>\n",
       "        <td>Linen</td>\n",
       "        <td>Shirt</td>\n",
       "        <td>131</td>\n",
       "        <td>24570</td>\n",
       "        <td>2.38%</td>\n",
       "    </tr>\n",
       "    <tr>\n",
       "        <td>Cords</td>\n",
       "        <td>Trousers</td>\n",
       "        <td>126</td>\n",
       "        <td>23124</td>\n",
       "        <td>2.24%</td>\n",
       "    </tr>\n",
       "</table>"
      ],
      "text/plain": [
       "[('Denim', 'Jacket', 273, 52399, '5.08%'),\n",
       " ('Casual Slim Fit', 'Shirt', 154, 36414, '3.53%'),\n",
       " ('Trench Coat', 'Jacket', 146, 35581, '3.45%'),\n",
       " ('Shearling', 'Jacket', 150, 35334, '3.42%'),\n",
       " ('Puffer', 'Jacket', 140, 35164, '3.41%'),\n",
       " ('Flannel', 'Shirt', 141, 33158, '3.21%'),\n",
       " ('Cropped', 'Trousers', 135, 32660, '3.17%'),\n",
       " ('Pleated', 'Trousers', 147, 32340, '3.13%'),\n",
       " ('Joggers', 'Trousers', 164, 31062, '3.01%'),\n",
       " ('Chambray', 'Shirt', 141, 30740, '2.98%'),\n",
       " ('Parka', 'Jacket', 134, 30397, '2.95%'),\n",
       " ('Bomber', 'Jacket', 150, 29700, '2.88%'),\n",
       " ('Chinos', 'Trousers', 135, 29380, '2.85%'),\n",
       " ('Windbreaker', 'Jacket', 143, 29274, '2.84%'),\n",
       " ('Cardigan', 'Jacket', 134, 29120, '2.82%'),\n",
       " ('Peacoat', 'Jacket', 132, 28994, '2.81%'),\n",
       " ('Tracksuit Bottoms', 'Trousers', 130, 28784, '2.79%'),\n",
       " ('Slim-Fit', 'Trousers', 154, 27936, '2.71%'),\n",
       " ('Oxford Cloth', 'Shirt', 146, 27744, '2.69%'),\n",
       " ('Drawstring', 'Trousers', 147, 27648, '2.68%'),\n",
       " ('High-Waisted', 'Trousers', 140, 27522, '2.67%'),\n",
       " ('Camp Collared', 'Shirt', 139, 27342, '2.65%'),\n",
       " ('Cargo Pants', 'Trousers', 134, 27234, '2.64%'),\n",
       " ('Relaxed Leg', 'Trousers', 146, 27090, '2.63%'),\n",
       " ('Cuban Collar', 'Shirt', 122, 26670, '2.58%'),\n",
       " ('Henley', 'Shirt', 146, 26414, '2.56%'),\n",
       " ('Wool', 'Trousers', 125, 26394, '2.56%'),\n",
       " ('Leather', 'Jacket', 136, 25774, '2.50%'),\n",
       " ('Mandarin Collar', 'Shirt', 124, 25724, '2.49%'),\n",
       " ('Dress', 'Shirt', 127, 25272, '2.45%'),\n",
       " ('Pullover', 'Jacket', 143, 25116, '2.43%'),\n",
       " ('Polo', 'Shirt', 131, 25080, '2.43%'),\n",
       " ('Coach', 'Jacket', 134, 24645, '2.39%'),\n",
       " ('Linen', 'Shirt', 131, 24570, '2.38%'),\n",
       " ('Cords', 'Trousers', 126, 23124, '2.24%')]"
      ]
     },
     "execution_count": 20,
     "metadata": {},
     "output_type": "execute_result"
    }
   ],
   "source": [
    "%%sql\n",
    "SELECT p.product_name AS 'Product Name', \n",
    "p.product_type AS 'Product Type', \n",
    "COUNT(o.order_id) AS 'Number of Orders', \n",
    "SUM(s.total_price) AS 'Total Sales', \n",
    "printf('%2.2f%%', (SUM(s.total_price) * 100.00 / (SELECT SUM(s.total_price) FROM sales AS s))) AS '% of Sales' \n",
    "FROM products AS p \n",
    "JOIN sales AS s ON p.product_id = s.product_id \n",
    "JOIN orders AS o ON s.order_id = o.order_id \n",
    "GROUP BY p.product_name \n",
    "ORDER BY SUM(s.total_price) DESC;"
   ]
  },
  {
   "cell_type": "markdown",
   "id": "39003183",
   "metadata": {},
   "source": [
    "O produto mais vendido no período foi a Jaqueta de Denim, representado 5.08% das vendas da empresa.\n",
    "\n",
    "Em seguida, temos a Camisa Slim Fit, a Jaqueta Trench, a Jaqueta Shearling e a Jaqueta Puffer. \n",
    "\n",
    "Esses 05 produtos, somados, representam 18.89%¨das vendas da empresa no período."
   ]
  },
  {
   "cell_type": "markdown",
   "id": "cd04e417",
   "metadata": {},
   "source": [
    "### 6. Qual o tempo médio entre a data do pedido e a data de entrega?"
   ]
  },
  {
   "cell_type": "code",
   "execution_count": 21,
   "id": "a268b8a1",
   "metadata": {
    "ExecuteTime": {
     "end_time": "2022-06-25T17:11:38.596217Z",
     "start_time": "2022-06-25T17:11:38.590223Z"
    }
   },
   "outputs": [
    {
     "name": "stdout",
     "output_type": "stream",
     "text": [
      " * sqlite:///sales.db\n",
      "Done.\n"
     ]
    },
    {
     "data": {
      "text/html": [
       "<table>\n",
       "    <tr>\n",
       "        <th>Average Number of Days to Deliver</th>\n",
       "    </tr>\n",
       "    <tr>\n",
       "        <td>14.0</td>\n",
       "    </tr>\n",
       "</table>"
      ],
      "text/plain": [
       "[(14.0,)]"
      ]
     },
     "execution_count": 21,
     "metadata": {},
     "output_type": "execute_result"
    }
   ],
   "source": [
    "%%sql\n",
    "SELECT round(avg(julianday(delivery_date) - julianday(order_date))) AS 'Average Number of Days to Deliver' \n",
    "FROM orders; "
   ]
  },
  {
   "cell_type": "markdown",
   "id": "0a9c0f49",
   "metadata": {},
   "source": [
    "O número médio de dias entre o pedido e a entrega do produto para o cliente é de 14 dias."
   ]
  },
  {
   "cell_type": "markdown",
   "id": "d36d9ecd",
   "metadata": {},
   "source": [
    "### 7. Qual o desempenho de vendas por trimestre? (Número de Pedidos e Receita)"
   ]
  },
  {
   "cell_type": "markdown",
   "id": "022320d2",
   "metadata": {},
   "source": [
    "Como não temos o dado em que trimestre o pedido foi feito, vamos adicionar o atributo/coluna do trimestre no conjunto de dados para facilitar a análise e responder ao questionamento."
   ]
  },
  {
   "cell_type": "code",
   "execution_count": 22,
   "id": "c221b599",
   "metadata": {
    "ExecuteTime": {
     "end_time": "2022-06-25T17:12:00.812114Z",
     "start_time": "2022-06-25T17:12:00.791110Z"
    }
   },
   "outputs": [
    {
     "name": "stdout",
     "output_type": "stream",
     "text": [
      " * sqlite:///sales.db\n",
      "Done.\n"
     ]
    },
    {
     "data": {
      "text/plain": [
       "[]"
      ]
     },
     "execution_count": 22,
     "metadata": {},
     "output_type": "execute_result"
    }
   ],
   "source": [
    "%%sql\n",
    "ALTER TABLE orders ADD order_date_quarter TEXT;"
   ]
  },
  {
   "cell_type": "code",
   "execution_count": 23,
   "id": "1573e6c0",
   "metadata": {
    "ExecuteTime": {
     "end_time": "2022-06-25T17:12:07.201254Z",
     "start_time": "2022-06-25T17:12:07.172248Z"
    }
   },
   "outputs": [
    {
     "name": "stdout",
     "output_type": "stream",
     "text": [
      " * sqlite:///sales.db\n",
      "321 rows affected.\n"
     ]
    },
    {
     "data": {
      "text/plain": [
       "[]"
      ]
     },
     "execution_count": 23,
     "metadata": {},
     "output_type": "execute_result"
    }
   ],
   "source": [
    "%%sql\n",
    "UPDATE orders SET order_date_quarter = 'Q1' WHERE order_date_month >= 1 AND order_date_month <= 3;"
   ]
  },
  {
   "cell_type": "code",
   "execution_count": 24,
   "id": "e5823215",
   "metadata": {
    "ExecuteTime": {
     "end_time": "2022-06-25T17:12:13.083158Z",
     "start_time": "2022-06-25T17:12:13.055160Z"
    }
   },
   "outputs": [
    {
     "name": "stdout",
     "output_type": "stream",
     "text": [
      " * sqlite:///sales.db\n",
      "288 rows affected.\n"
     ]
    },
    {
     "data": {
      "text/plain": [
       "[]"
      ]
     },
     "execution_count": 24,
     "metadata": {},
     "output_type": "execute_result"
    }
   ],
   "source": [
    "%%sql\n",
    "UPDATE orders SET order_date_quarter = 'Q2' WHERE order_date_month >= 4 AND order_date_month <= 6;"
   ]
  },
  {
   "cell_type": "code",
   "execution_count": 25,
   "id": "68f6de07",
   "metadata": {
    "ExecuteTime": {
     "end_time": "2022-06-25T17:12:19.445322Z",
     "start_time": "2022-06-25T17:12:19.414315Z"
    }
   },
   "outputs": [
    {
     "name": "stdout",
     "output_type": "stream",
     "text": [
      " * sqlite:///sales.db\n",
      "310 rows affected.\n"
     ]
    },
    {
     "data": {
      "text/plain": [
       "[]"
      ]
     },
     "execution_count": 25,
     "metadata": {},
     "output_type": "execute_result"
    }
   ],
   "source": [
    "%%sql\n",
    "UPDATE orders SET order_date_quarter = 'Q3' WHERE order_date_month >= 7 AND order_date_month <= 9;"
   ]
  },
  {
   "cell_type": "code",
   "execution_count": 26,
   "id": "ef9c4ea7",
   "metadata": {
    "ExecuteTime": {
     "end_time": "2022-06-25T17:12:26.277288Z",
     "start_time": "2022-06-25T17:12:26.250239Z"
    }
   },
   "outputs": [
    {
     "name": "stdout",
     "output_type": "stream",
     "text": [
      " * sqlite:///sales.db\n",
      "81 rows affected.\n"
     ]
    },
    {
     "data": {
      "text/plain": [
       "[]"
      ]
     },
     "execution_count": 26,
     "metadata": {},
     "output_type": "execute_result"
    }
   ],
   "source": [
    "%%sql\n",
    "UPDATE orders SET order_date_quarter = 'Q4' WHERE order_date_month >= 10 AND order_date_month <= 12;"
   ]
  },
  {
   "cell_type": "code",
   "execution_count": 27,
   "id": "34ec9d26",
   "metadata": {
    "ExecuteTime": {
     "end_time": "2022-06-25T17:12:56.267280Z",
     "start_time": "2022-06-25T17:12:56.258279Z"
    }
   },
   "outputs": [
    {
     "name": "stdout",
     "output_type": "stream",
     "text": [
      " * sqlite:///sales.db\n",
      "Done.\n"
     ]
    },
    {
     "data": {
      "text/html": [
       "<table>\n",
       "    <tr>\n",
       "        <th>Quarter</th>\n",
       "        <th>Number of Orders</th>\n",
       "        <th>Sales Total</th>\n",
       "        <th>% of Sales</th>\n",
       "    </tr>\n",
       "    <tr>\n",
       "        <td>Q1</td>\n",
       "        <td>1679</td>\n",
       "        <td>345777</td>\n",
       "        <td>33.51%</td>\n",
       "    </tr>\n",
       "    <tr>\n",
       "        <td>Q2</td>\n",
       "        <td>1396</td>\n",
       "        <td>284585</td>\n",
       "        <td>27.58%</td>\n",
       "    </tr>\n",
       "    <tr>\n",
       "        <td>Q3</td>\n",
       "        <td>1530</td>\n",
       "        <td>317172</td>\n",
       "        <td>30.74%</td>\n",
       "    </tr>\n",
       "    <tr>\n",
       "        <td>Q4</td>\n",
       "        <td>395</td>\n",
       "        <td>84266</td>\n",
       "        <td>8.17%</td>\n",
       "    </tr>\n",
       "</table>"
      ],
      "text/plain": [
       "[('Q1', 1679, 345777, '33.51%'),\n",
       " ('Q2', 1396, 284585, '27.58%'),\n",
       " ('Q3', 1530, 317172, '30.74%'),\n",
       " ('Q4', 395, 84266, '8.17%')]"
      ]
     },
     "execution_count": 27,
     "metadata": {},
     "output_type": "execute_result"
    }
   ],
   "source": [
    "%%sql\n",
    "SELECT o.order_date_quarter AS 'Quarter', \n",
    "COUNT(o.order_id) AS 'Number of Orders', \n",
    "SUM(s.total_price) AS 'Sales Total', \n",
    "printf('%2.2f%%', (SUM(s.total_price) * 100.00 / (SELECT SUM(s.total_price) FROM sales AS s))) AS '% of Sales' \n",
    "FROM orders AS o \n",
    "JOIN sales AS s ON o.order_id = s.order_id \n",
    "GROUP BY o.order_date_quarter;"
   ]
  },
  {
   "cell_type": "markdown",
   "id": "e854b24d",
   "metadata": {},
   "source": [
    "O Primeiro Trimestre (Janeiro a Março) foi o melhor período de vendas para a empresa.\n",
    "\n",
    "Todavia, cabe ressaltar que o Quarto Trimestre tem somente as vendas do mês de Outubro, sendo esse o último mês que temos registros no conjunto de dados."
   ]
  }
 ],
 "metadata": {
  "kernelspec": {
   "display_name": "Python 3 (ipykernel)",
   "language": "python",
   "name": "python3"
  },
  "language_info": {
   "codemirror_mode": {
    "name": "ipython",
    "version": 3
   },
   "file_extension": ".py",
   "mimetype": "text/x-python",
   "name": "python",
   "nbconvert_exporter": "python",
   "pygments_lexer": "ipython3",
   "version": "3.9.7"
  }
 },
 "nbformat": 4,
 "nbformat_minor": 5
}
